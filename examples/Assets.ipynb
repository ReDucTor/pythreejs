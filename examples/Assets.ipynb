{
 "cells": [
  {
   "cell_type": "markdown",
   "metadata": {},
   "source": [
    "# Asset Loading"
   ]
  },
  {
   "cell_type": "code",
   "execution_count": 1,
   "metadata": {},
   "outputs": [],
   "source": [
    "%gui asyncio"
   ]
  },
  {
   "cell_type": "code",
   "execution_count": 2,
   "metadata": {},
   "outputs": [],
   "source": [
    "from pythreejs import *\n",
    "from ipywidgets import Output, Text"
   ]
  },
  {
   "cell_type": "code",
   "execution_count": 3,
   "metadata": {},
   "outputs": [],
   "source": [
    "import asyncio\n",
    "def wait_for_change(widget, value):\n",
    "    future = asyncio.Future()\n",
    "    def getvalue(change):\n",
    "        # make the new value available\n",
    "        future.set_result(change.new)\n",
    "        widget.unobserve(getvalue, value)\n",
    "    widget.observe(getvalue, value)\n",
    "    return future"
   ]
  },
  {
   "cell_type": "code",
   "execution_count": 4,
   "metadata": {},
   "outputs": [
    {
     "data": {
      "application/vnd.jupyter.widget-view+json": {
       "model_id": "2a9300ccfd0d40fa99fc6d0c1d807f96",
       "version_major": 2,
       "version_minor": 0
      },
      "text/plain": [
       "Renderer(camera=PerspectiveCamera(children=(DirectionalLight(color='white', intensity=0.5, position=(3.0, 5.0,…"
      ]
     },
     "metadata": {},
     "output_type": "display_data"
    },
    {
     "data": {
      "application/vnd.jupyter.widget-view+json": {
       "model_id": "ab0cd8cb585941de846b1e0e05d0e343",
       "version_major": 2,
       "version_minor": 0
      },
      "text/plain": [
       "Output()"
      ]
     },
     "metadata": {},
     "output_type": "display_data"
    },
    {
     "data": {
      "application/vnd.jupyter.widget-view+json": {
       "model_id": "e7ca01b0ce554cd097bcc3b0794aadda",
       "version_major": 2,
       "version_minor": 0
      },
      "text/plain": [
       "Text(value='adfas')"
      ]
     },
     "metadata": {},
     "output_type": "display_data"
    },
    {
     "data": {
      "text/plain": [
       "<Task pending name='Task-1' coro=<show_model() running at <ipython-input-4-ab9b2bd45a01>:1>>"
      ]
     },
     "execution_count": 4,
     "metadata": {},
     "output_type": "execute_result"
    }
   ],
   "source": [
    "async def show_model(out, t, scene):\n",
    "    print(out)\n",
    "    t.value = 'pre-out'\n",
    "    with out:\n",
    "        t.value += ', pre-asset'\n",
    "        print(\"pre-asset\")\n",
    "        gltf_model = GLTFAsset(\"assets/pythreejs.gltf\")\n",
    "        t.value += ', post-asset' + str(gltf_model)\n",
    "        print(\"post-asset\")\n",
    "        print(gltf_model)\n",
    "\n",
    "        x = await wait_for_change(gltf_model, 'scene')\n",
    "        t.value = 'post-wait'\n",
    "        print(x)\n",
    "        print(gltf_model)\n",
    "\n",
    "\n",
    "        assert gltf_model.scene is not None\n",
    "        print(scene)\n",
    "        t.value = str(scene)\n",
    "        scene.children = gltf_model.scene.children\n",
    "        print(scene)\n",
    "\n",
    "\n",
    "ball = Mesh(geometry=SphereGeometry(),\n",
    "            material=MeshLambertMaterial(color='red'))\n",
    "key_light = DirectionalLight(color='white', position=[3, 5, 1], intensity=0.5)\n",
    "\n",
    "c = PerspectiveCamera(position=[0, 5, 5], up=[0, 1, 0], children=[key_light])\n",
    "\n",
    "scene = Scene(children=[ball, c, AmbientLight(color='#777777')], background=None)\n",
    "\n",
    "\n",
    "renderer = Renderer(camera=c,\n",
    "                    scene=scene,\n",
    "                    alpha=True,\n",
    "                    clearOpacity=0,\n",
    "                    controls=[OrbitControls(controlling=c)])\n",
    "\n",
    "out = Output()\n",
    "with out:\n",
    "    print(\"test\")\n",
    "t = Text()\n",
    "t.value = \"adfas\"\n",
    "display(renderer,out, t)\n",
    "with out:\n",
    "    print(\"test2\")\n",
    "asyncio.ensure_future(show_model(out, t, scene))"
   ]
  },
  {
   "cell_type": "code",
   "execution_count": null,
   "metadata": {},
   "outputs": [],
   "source": []
  }
 ],
 "metadata": {
  "kernelspec": {
   "display_name": "Python 3",
   "language": "python",
   "name": "python3"
  },
  "language_info": {
   "codemirror_mode": {
    "name": "ipython",
    "version": 3
   },
   "file_extension": ".py",
   "mimetype": "text/x-python",
   "name": "python",
   "nbconvert_exporter": "python",
   "pygments_lexer": "ipython3",
   "version": "3.8.2"
  }
 },
 "nbformat": 4,
 "nbformat_minor": 4
}
